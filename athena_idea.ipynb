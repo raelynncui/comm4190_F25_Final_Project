{
 "cells": [
  {
   "cell_type": "markdown",
   "id": "21894979-cb9c-45cb-94e6-b9d702239983",
   "metadata": {},
   "source": [
    "# CareerCraft"
   ]
  },
  {
   "cell_type": "markdown",
   "id": "3c950016-4d18-4cfb-aba7-8d32325cea8e",
   "metadata": {},
   "source": [
    "Finding a career path in college is overwhelming — students often jump between majors, interests, and opportunities without a clear sense of direction. Our idea, CareerCraft, is an AI-powered career coach built on large language models that personalizes career exploration. By integrating data from a student’s LinkedIn, coursework, and extracurriculars, the LLM generates tailored career pathways, internship suggestions, and even email drafts for outreach. It also provides conversational mock interviews and feedback based on the target role.\n",
    "Unlike generic chatbots, CareerCraft fine-tunes on university-specific data such as major requirements, campus organizations, and internship postings to make its advice actionable. The goal is to empower students to navigate academic and career decisions confidently, with an AI assistant that actually understands their background and goals."
   ]
  },
  {
   "cell_type": "code",
   "execution_count": null,
   "id": "75f74581-d3db-4c89-8304-52d03214daaf",
   "metadata": {},
   "outputs": [],
   "source": []
  }
 ],
 "metadata": {
  "kernelspec": {
   "display_name": "Python 3-12 (COMM4190)",
   "language": "python",
   "name": "python3-12_comm4190"
  },
  "language_info": {
   "codemirror_mode": {
    "name": "ipython",
    "version": 3
   },
   "file_extension": ".py",
   "mimetype": "text/x-python",
   "name": "python",
   "nbconvert_exporter": "python",
   "pygments_lexer": "ipython3",
   "version": "3.12.12"
  }
 },
 "nbformat": 4,
 "nbformat_minor": 5
}
