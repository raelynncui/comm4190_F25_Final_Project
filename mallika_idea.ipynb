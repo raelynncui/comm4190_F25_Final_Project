{
 "cells": [
  {
   "cell_type": "markdown",
   "id": "11a3eade-f938-4fba-9b9c-7652d0aedb4c",
   "metadata": {},
   "source": [
    "# AdaptEd"
   ]
  },
  {
   "cell_type": "markdown",
   "id": "f55d1f53-574c-4618-8752-0315bd89d97a",
   "metadata": {},
   "source": [
    "### A personalized lesson plan creator for every learner.\n",
    "\n",
    "A \"no child left behind product\". Many teachers and parents are incredibly busy, and a large issue in education as a whole is personazlizing the experience for every learner. Due the the difficulty and training required to develop engaging lessons that fit the unique needs of students with learning disabilities, we need a way to support every kind of student without placing a strain on our educators. AdaptEd uses a large language model to generate customized lesson plans, learning materials, and progress-tracking suggestions based on each student’s strengths, challenges, and goals. It’s like having a coach who instantly adapts your teaching approach, whether you are a teacher or a parent, while expanding your scopr to help every student learn in the way that works best for them."
   ]
  },
  {
   "cell_type": "code",
   "execution_count": null,
   "id": "871b4f18-2a6e-410f-b1e3-4d7b5e709a5a",
   "metadata": {},
   "outputs": [],
   "source": []
  }
 ],
 "metadata": {
  "kernelspec": {
   "display_name": "Python 3-12 (COMM4190)",
   "language": "python",
   "name": "python3-12_comm4190"
  },
  "language_info": {
   "codemirror_mode": {
    "name": "ipython",
    "version": 3
   },
   "file_extension": ".py",
   "mimetype": "text/x-python",
   "name": "python",
   "nbconvert_exporter": "python",
   "pygments_lexer": "ipython3",
   "version": "3.12.12"
  }
 },
 "nbformat": 4,
 "nbformat_minor": 5
}
