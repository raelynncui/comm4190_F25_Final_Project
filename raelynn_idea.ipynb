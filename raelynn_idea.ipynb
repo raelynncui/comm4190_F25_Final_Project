{
 "cells": [
  {
   "cell_type": "markdown",
   "id": "06312605-642e-4e45-8648-e421166ef3f2",
   "metadata": {},
   "source": [
    "# BuyBot"
   ]
  },
  {
   "cell_type": "markdown",
   "id": "301ce752-a605-4272-a387-f67787d3f146",
   "metadata": {},
   "source": [
    "### *Your new mindful shopping companion*"
   ]
  },
  {
   "cell_type": "markdown",
   "id": "e6980659-9944-4158-9f6c-69f9a0630b03",
   "metadata": {},
   "source": [
    "Online shopping makes it too easy to buy things we don’t really need, leading to overconsumption. We can simply click a few buttons and immediately have something on its way.\n",
    "\n",
    "BuyBot is your companion to challenge this behavior. Living right in your browser, it uses an LLM to make you pause and persuade: before you check out, you have to explain why you actually need the item. The model pushes back, asking questions about use, value, and alternatives (like a rational friend reminding you of your goals). You can even configure it to be as argumentative as you want!\n",
    "\n",
    "If you can’t make your case, the item disappears from your cart. BuyBot transforms impulse buying into mindful decision-making, helping users spend more intentionally and feel good about what they do buy."
   ]
  },
  {
   "cell_type": "code",
   "execution_count": null,
   "id": "bcd43d86-1247-430b-b2fb-a9650ecb37e6",
   "metadata": {},
   "outputs": [],
   "source": []
  }
 ],
 "metadata": {
  "kernelspec": {
   "display_name": "Python 3-12 (COMM4190)",
   "language": "python",
   "name": "python3-12_comm4190"
  },
  "language_info": {
   "codemirror_mode": {
    "name": "ipython",
    "version": 3
   },
   "file_extension": ".py",
   "mimetype": "text/x-python",
   "name": "python",
   "nbconvert_exporter": "python",
   "pygments_lexer": "ipython3",
   "version": "3.12.12"
  }
 },
 "nbformat": 4,
 "nbformat_minor": 5
}
